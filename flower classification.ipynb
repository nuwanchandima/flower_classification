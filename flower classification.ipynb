{
 "cells": [
  {
   "cell_type": "code",
   "execution_count": 1,
   "id": "44a49db8-6172-48fb-aee3-eb3ab4fcd69b",
   "metadata": {},
   "outputs": [],
   "source": [
    "import os\n",
    "import numpy as np\n",
    "\n",
    "import tensorflow as tf\n",
    "from tensorflow.keras import layers\n",
    "from tensorflow.keras.preprocessing.image import load_img,ImageDataGenerator\n",
    "from tensorflow.keras.models import Sequential,load_model\n",
    "from tensorflow.keras.layers import Conv2D,MaxPool2D,Dense,Dropout,Flatten"
   ]
  },
  {
   "cell_type": "code",
   "execution_count": 2,
   "id": "8a5d97c8-913c-4b31-a763-ddb785734ffb",
   "metadata": {},
   "outputs": [
    {
     "name": "stdout",
     "output_type": "stream",
     "text": [
      "['astilbe', 'bellflower', 'black_eyed_susan', 'calendula', 'california_poppy', 'carnation', 'common_daisy', 'coreopsis', 'dandelion', 'iris', 'rose', 'sunflower', 'tulip', 'water_lily']\n"
     ]
    }
   ],
   "source": [
    "directories=os.listdir('data')\n",
    "print(directories)"
   ]
  },
  {
   "cell_type": "code",
   "execution_count": 3,
   "id": "46e71f12-5832-4b90-b963-09ee86c5ee54",
   "metadata": {},
   "outputs": [
    {
     "name": "stdout",
     "output_type": "stream",
     "text": [
      "astilbe has 726 images\n",
      "bellflower has 872 images\n",
      "black_eyed_susan has 986 images\n",
      "calendula has 1011 images\n",
      "california_poppy has 1021 images\n",
      "carnation has 924 images\n",
      "common_daisy has 978 images\n",
      "coreopsis has 1035 images\n",
      "dandelion has 1038 images\n",
      "iris has 1041 images\n",
      "rose has 986 images\n",
      "sunflower has 1013 images\n",
      "tulip has 1034 images\n",
      "water_lily has 977 images\n"
     ]
    }
   ],
   "source": [
    "images_count=0\n",
    "for directory in directories:\n",
    "    files=list(os.listdir('data/'+ directory))\n",
    "    print(directory+' has '+str(len(files))+' images')\n",
    "    images_count+=len(files)"
   ]
  },
  {
   "cell_type": "code",
   "execution_count": 4,
   "id": "ce1833fe-4072-483e-bcbf-efe5c5506b11",
   "metadata": {},
   "outputs": [
    {
     "name": "stdout",
     "output_type": "stream",
     "text": [
      "13642\n"
     ]
    }
   ],
   "source": [
    "print(images_count)"
   ]
  },
  {
   "cell_type": "code",
   "execution_count": null,
   "id": "a929271c-627f-40bd-bdd7-a4661a9953ee",
   "metadata": {},
   "outputs": [],
   "source": []
  }
 ],
 "metadata": {
  "kernelspec": {
   "display_name": "Python 3 (ipykernel)",
   "language": "python",
   "name": "python3"
  },
  "language_info": {
   "codemirror_mode": {
    "name": "ipython",
    "version": 3
   },
   "file_extension": ".py",
   "mimetype": "text/x-python",
   "name": "python",
   "nbconvert_exporter": "python",
   "pygments_lexer": "ipython3",
   "version": "3.11.5"
  }
 },
 "nbformat": 4,
 "nbformat_minor": 5
}
